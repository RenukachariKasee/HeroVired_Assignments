{
 "cells": [
  {
   "cell_type": "markdown",
   "id": "acf5cd9c-8856-4330-b2ef-ab2dba4a91ab",
   "metadata": {},
   "source": [
    "Project Overview:\n",
    "\n",
    "XYZ Retail Company, a leading retailer in the industry, is looking to enhance its data analysis capabilities. To do this, they are developing a suite of Python-based tools to analyze their business data effectively. As a junior data scientist, your task is to create and implement various Python codes to solve basic data science problems related to their operations."
   ]
  },
  {
   "cell_type": "code",
   "execution_count": 42,
   "id": "c0e86420-e448-401f-9b7b-b4297c971f82",
   "metadata": {},
   "outputs": [
    {
     "name": "stdout",
     "output_type": "stream",
     "text": [
      "Total Unit Sold:  100\n",
      "The difference between the units:  20\n",
      "Unit sold ratio (A:B)  1.5\n"
     ]
    }
   ],
   "source": [
    "### Task 1: Sales Data Summary\n",
    "\n",
    "## Objective: XYZ Retail wants to automate the process of calculating basic sales metrics.\n",
    "\n",
    "    #   Assign the number of units sold in two categories, `Category A` and `Category B`, to variables.\n",
    "    #   Calculate the total units sold, the difference between the categories, and the ratio of units sold.\n",
    "    #   Print these results clearly for the management team.\n",
    "\n",
    "Category_A_Units = 60 \n",
    "Category_B_Units = 40\n",
    "\n",
    "TotalUnitSold = Category_A_Units + Category_B_Units\n",
    "Units_Diff = Category_A_Units - Category_B_Units\n",
    "Units_Ratio = Category_A_Units / Category_B_Units\n",
    "\n",
    "\n",
    "print(\"Total Unit Sold: \" , (TotalUnitSold))\n",
    "print(\"The difference between the units: \" , (Units_Diff))\n",
    "print(\"Unit sold ratio (A:B) \", (Units_Ratio))\n"
   ]
  },
  {
   "cell_type": "code",
   "execution_count": 40,
   "id": "b35de89e-a0a8-4cd6-8208-98d1df9611e4",
   "metadata": {},
   "outputs": [
    {
     "name": "stdout",
     "output_type": "stream",
     "text": [
      "Dear John Doe, at 30 , you’re eligible for our premium loyalty program.\n"
     ]
    }
   ],
   "source": [
    "###Task 2: Customer Age Data\n",
    "\n",
    "    ##Objective: Understanding the age distribution of customers is crucial for marketing strategies.\n",
    "\n",
    "        # Store a customer's name and age.\n",
    "        # Convert the age into a string and create a personalized marketing message like \"Dear John Doe, at 30, you’re eligible for our premium loyalty program.\"\n",
    "        # Print the message for use in email campaigns.\n",
    "\n",
    "Customer_Name = \"John Doe\"\n",
    "Customer_Age =  30\n",
    "\n",
    "personalized_message = f\"Dear {Customer_Name}, at {Customer_Age} , you’re eligible for our premium loyalty program.\"\n",
    "\n",
    "print(personalized_message)\n"
   ]
  },
  {
   "cell_type": "code",
   "execution_count": 38,
   "id": "79c27167-2830-4428-aafd-8ae69ddedf1d",
   "metadata": {},
   "outputs": [
    {
     "name": "stdout",
     "output_type": "stream",
     "text": [
      "95\n",
      "15\n",
      "[20, 25, 35, 45, 55, 65, 75, 85, 100]\n"
     ]
    }
   ],
   "source": [
    "### Task 3: Product List Management\n",
    "\n",
    "## Objective: Efficient management of the product list is essential for inventory control.\n",
    "\n",
    "   # Given a list of product prices, extract the highest and lowest prices.\n",
    "   # Create a new list with the mid-range products.\n",
    "   # Add a new premium product price to the list and print the updated list for the inventory team.\n",
    "\n",
    "Product_prices = [15,20,25,35,45,55,65,75,85,95]\n",
    "highest_price = max(Product_prices)\n",
    "lowest_price= min(Product_prices)\n",
    "\n",
    "print(highest_price) \n",
    "print(lowest_price) \n",
    "\n",
    "mid_rage_prices = []\n",
    "\n",
    "for price in Product_prices:\n",
    "    if price != highest_price and price != lowest_price:\n",
    "        mid_rage_prices.append(price)\n",
    "        \n",
    "Premium_price = 100\n",
    "\n",
    "mid_rage_prices.append(Premium_price)\n",
    "\n",
    "print(mid_rage_prices) \n"
   ]
  },
  {
   "cell_type": "code",
   "execution_count": 36,
   "id": "5b9c923a-cb57-4a27-91d8-be821d6d242b",
   "metadata": {},
   "outputs": [
    {
     "name": "stdout",
     "output_type": "stream",
     "text": [
      "Product Name : Computer and Product SKU : A-1 \n"
     ]
    }
   ],
   "source": [
    "### Task 4: Inventory Lookup\n",
    "\n",
    "## Objective: Quick access to product details is important for customer service representatives.\n",
    "\n",
    "   # Create a dictionary storing key information about a product (e.g., `product_name`, `SKU`, `price`, `category`).\n",
    "   # Print the product name and SKU when queried by a customer service representative.\n",
    "\n",
    "product_info = {'product_name':'Computer', 'SKU':'A-1', 'price':20, 'category':'Cat-A' }\n",
    "\n",
    "product_Name = product_info['product_name']\n",
    "product_SKU = product_info['SKU']\n",
    "\n",
    "print(f\"Product Name : {product_Name} and Product SKU : {product_SKU} \")\n"
   ]
  },
  {
   "cell_type": "code",
   "execution_count": 34,
   "id": "5149d9a5-80b3-4066-b02a-95b7ea648180",
   "metadata": {},
   "outputs": [
    {
     "name": "stdin",
     "output_type": "stream",
     "text": [
      "Please provide the stock level =  12\n"
     ]
    },
    {
     "name": "stdout",
     "output_type": "stream",
     "text": [
      "Reorder Now\n"
     ]
    }
   ],
   "source": [
    "### Task 5: Stock Level Alert System\n",
    "\n",
    " ## Objective: Ensuring that stock levels are maintained is critical to avoid stockouts.\n",
    "\n",
    "   # Write the code that takes the stock level as input.\n",
    "   # If stock is below a certain threshold, print a \"Reorder Now\" alert. If stock is above the threshold, print \"Stock is sufficient.\"\n",
    "\n",
    "stock_Level = int(input(\"Please provide the stock level = \"))\n",
    "\n",
    "Stock_Threshold = 100\n",
    "\n",
    "if (stock_Level < Stock_Threshold):\n",
    "    print(\"Reorder Now\")\n",
    "else:\n",
    "    print(\"Stock is sufficient\")"
   ]
  },
  {
   "cell_type": "code",
   "execution_count": 32,
   "id": "f83ca693-27a4-411f-963b-bb43bba0be09",
   "metadata": {},
   "outputs": [
    {
     "name": "stdout",
     "output_type": "stream",
     "text": [
      "List_of_Product_Upper_using_forloop: ['LAPTOP', 'KEYBOARD', 'MOUSE', 'HEADPHONE']\n",
      "List_of_Product_Upper_using_whileLoop: ['LAPTOP', 'KEYBOARD', 'MOUSE', 'HEADPHONE']\n"
     ]
    }
   ],
   "source": [
    "###Task 6: Sales Report Formatting\n",
    "\n",
    "## Objective: Formatting the sales data for management reports is crucial.\n",
    "\n",
    "   # Given a list of products sold, print each product name in uppercase for better visibility in reports.\n",
    "   # Implement both a `for` loop and a `while` loop for this task to ensure code flexibility.\n",
    "\n",
    "List_of_Product = ['laptop','keyboard','mouse','headphone']\n",
    "\n",
    "List_of_Product_Upper_using_forloop= []\n",
    "\n",
    "## using the for loop\n",
    "\n",
    "for product in List_of_Product:\n",
    "    #print(product.upper())\n",
    "    List_of_Product_Upper_using_forloop.append(product.upper())\n",
    "\n",
    "print(f\"List_of_Product_Upper_using_forloop: {List_of_Product_Upper_using_forloop}\")\n",
    "\n",
    "## using the while loop\n",
    "List_of_Product_Upper_using_whileLoop = []\n",
    "\n",
    "index = 0\n",
    "while index < len(List_of_Product):\n",
    "    List_of_Product_Upper_using_whileLoop.append(List_of_Product[index].upper())\n",
    "    index += 1\n",
    "\n",
    "print(f\"List_of_Product_Upper_using_whileLoop: {List_of_Product_Upper_using_whileLoop}\")\n"
   ]
  },
  {
   "cell_type": "code",
   "execution_count": 28,
   "id": "2e043cbf-4331-431d-b161-1f420bbae506",
   "metadata": {},
   "outputs": [
    {
     "name": "stdout",
     "output_type": "stream",
     "text": [
      "the area of the  front sec is 250 squate meters.\n",
      "the area of the  back sec is 825 squate meters.\n",
      "the area of the  middle sec is 375 squate meters.\n"
     ]
    }
   ],
   "source": [
    "### Task 7: Area Calculation for Store Layout\n",
    "\n",
    "## Objective: Accurate area calculations are needed to plan new store layouts.\n",
    "    # Create a function that calculates the area of a section of the store based on length and width.\n",
    "    # Use this function to calculate and print the area of several store sections.\n",
    "\n",
    "def calculate_area(length, width):\n",
    "    return length * width\n",
    "\n",
    "    \n",
    "sections =  [\n",
    "            {\"name\":\"front sec\", \"length\" : 50, \"width\" :5},\n",
    "         {\"name\":\"back sec\", \"length\" : 55, \"width\" :15},\n",
    "         {\"name\":\"middle sec\", \"length\" : 25, \"width\" :15}\n",
    "            ]\n",
    "\n",
    "for section in sections:\n",
    "    area = calculate_area(section[\"length\"], section[\"width\"])\n",
    "    print(f\"the area of the  {section['name']} is {area} squate meters.\")\n"
   ]
  },
  {
   "cell_type": "code",
   "execution_count": 30,
   "id": "0a14b02e-795a-464e-8044-242fcdff8f6d",
   "metadata": {},
   "outputs": [
    {
     "name": "stdout",
     "output_type": "stream",
     "text": [
      " original feedback: This service was good and i did not expect . I am very delighted with customer services. I had best experience so far\n",
      " Number of vowels: 36\n",
      " reversed  feedback: raf os ecneirepxe tseb dah I .secivres remotsuc htiw dethgiled yrev ma I . tcepxe ton did i dna doog saw ecivres sihT\n"
     ]
    }
   ],
   "source": [
    "### Task 8: Customer Feedback Analysis\n",
    "\n",
    "## Objective: Analyzing customer feedback is vital to improving service.\n",
    "     # Write the code to count the number of vowels in a customer feedback message.\n",
    "     # Also, reverse the feedback message for a unique data presentation in reports.\n",
    "\n",
    "Feedback = \"This service was good and i did not expect . I am very delighted with customer services. I had best experience so far\"\n",
    "\n",
    "def count_vowels(message):\n",
    "    vowels = \"aeiouAEIOU\"\n",
    "    count = 0\n",
    "    for char in message:\n",
    "        if char in vowels:\n",
    "            count = count + 1\n",
    "    return count\n",
    "\n",
    "def reverse_message(message):\n",
    "    return message[::-1]\n",
    "\n",
    "vowel_count = count_vowels(Feedback)\n",
    "#print(vowel_count)\n",
    "\n",
    "reversed_feedback = reverse_message(Feedback)\n",
    "\n",
    "print(f\" original feedback: {Feedback}\")\n",
    "print(f\" Number of vowels: {vowel_count}\")\n",
    "print(f\" reversed  feedback: {reversed_feedback}\")\n"
   ]
  },
  {
   "cell_type": "code",
   "execution_count": 26,
   "id": "387bd78e-460e-4af9-a9e2-12dd89a71094",
   "metadata": {},
   "outputs": [
    {
     "name": "stdout",
     "output_type": "stream",
     "text": [
      " Product Product A - $ 100\n",
      " Product Product B - $ 200\n",
      " Product Product C - $ 150\n",
      " Product Product D - $ 250\n",
      " Product Product E - $ 350\n"
     ]
    }
   ],
   "source": [
    "### Task 9: Price Filtering Tool\n",
    "\n",
    "## Objective: Filtering product prices helps in creating targeted discounts.\n",
    "    # Use list comprehension to filter out products priced below a certain threshold from the product list.\n",
    "    # Print the list of eligible products for a discount campaign.\n",
    "\n",
    "Product_with_prices = [\n",
    "                    {\"name\" : \"Product A\" , \"Price\": 100},\n",
    "                    {\"name\" : \"Product B\" , \"Price\": 200},\n",
    "                    {\"name\" : \"Product C\" , \"Price\": 150},\n",
    "                    {\"name\" : \"Product D\" , \"Price\": 250},\n",
    "                    {\"name\" : \"Product E\" , \"Price\": 350},\n",
    "                        ]\n",
    "\n",
    "price_threshold = 18\n",
    "\n",
    "eligible_products = []\n",
    "for product in Product_with_prices:\n",
    "    if product[\"Price\"]>= price_threshold:\n",
    "        eligible_products.append(product)\n",
    "    \n",
    "#print(eligible_products)\n",
    "for product in eligible_products:\n",
    "    print(f\" Product {product['name']} - $ {product['Price']}\")\n",
    "    "
   ]
  },
  {
   "cell_type": "code",
   "execution_count": 24,
   "id": "66ba4080-d3ac-4c74-9305-d7bcc807e1a1",
   "metadata": {},
   "outputs": [
    {
     "name": "stdout",
     "output_type": "stream",
     "text": [
      "sales log content:\n",
      "Daily Sales summary: $1.2M in total sales, 11 deals closed.\n",
      "Top seller : Product A, with 7 deals closed, generation $0.7M in bookings\n",
      "\n"
     ]
    }
   ],
   "source": [
    "### Task 10: Sales Log File Management\n",
    "\n",
    "## Objective: Proper management of sales log files is necessary for compliance and audit purposes.\n",
    "    # Create a text file named `sales_log.txt` to store daily sales summaries.\n",
    "    # Write two lines summarizing the daily sales performance.\n",
    "    # Read and print the content of the file to ensure data integrity.\n",
    "\n",
    "sales_Summary = [\"Daily Sales summary: $1.2M in total sales, 11 deals closed.\",\n",
    "                \"Top seller : Product A, with 7 deals closed, generation $0.7M in bookings\"\n",
    "                ]\n",
    "\n",
    "with open (\"sales_log.txt\", \"w\") as file:\n",
    "    for line in sales_Summary:\n",
    "        file.write(line+\"\\n\")\n",
    "\n",
    "with open(\"sales_log.txt\",\"r\") as file:\n",
    "    content = file.read()\n",
    "\n",
    "print(\"sales log content:\")\n",
    "print(content)\n"
   ]
  },
  {
   "cell_type": "code",
   "execution_count": 22,
   "id": "9bc98845-cba7-4b8f-a55a-8ddde91f31b8",
   "metadata": {},
   "outputs": [
    {
     "name": "stdout",
     "output_type": "stream",
     "text": [
      " Average daily sales for the past 7 days is: $ 2755.00\n"
     ]
    }
   ],
   "source": [
    "### Task 11: Daily Sales Average\n",
    "\n",
    "## Objective: Calculate the average daily sales for the past week.\n",
    "    # Given a list of sales figures for the last 7 days, calculate the average sales.\n",
    "    # Print the average sales to help the finance team understand the weekly performance.\n",
    "\n",
    "Sales = [1025,2050,3020,6058,2024,3058,2050]\n",
    "\n",
    "total_sales = sum(Sales)\n",
    "# print(total_sales)\n",
    "\n",
    "average_sale = total_sales / len(Sales)\n",
    "\n",
    "print(f\" Average daily sales for the past 7 days is: $ {average_sale:.2f}\")\n"
   ]
  },
  {
   "cell_type": "code",
   "execution_count": 20,
   "id": "c89b14bf-ed4b-4f22-9d3e-f3dd7e9eefcf",
   "metadata": {},
   "outputs": [
    {
     "name": "stdout",
     "output_type": "stream",
     "text": [
      "customer with spending $1025 is categorized as a Medium\n",
      "customer with spending $2050 is categorized as a Medium\n",
      "customer with spending $3020 is categorized as a High\n",
      "customer with spending $6058 is categorized as a High\n",
      "customer with spending $2024 is categorized as a Medium\n",
      "customer with spending $3058 is categorized as a High\n",
      "customer with spending $2050 is categorized as a Medium\n",
      "customer with spending $1089 is categorized as a Medium\n",
      "customer with spending $2058 is categorized as a Medium\n",
      "customer with spending $6052 is categorized as a High\n",
      "customer with spending $4012 is categorized as a High\n",
      "customer with spending $2054 is categorized as a Medium\n",
      "customer with spending $500 is categorized as a Low\n",
      "customer with spending $700 is categorized as a Low\n",
      "customer with spending $800 is categorized as a Low\n"
     ]
    }
   ],
   "source": [
    "### Task 12: Customer Segmentation\n",
    "\n",
    "## Objective: Categorize customers based on their total spending.\n",
    "    # Create a list of customer spending amounts.\n",
    "    # Use a loop to categorize customers as \"Low\", \"Medium\", or \"High\" spenders based on their spending amount.\n",
    "    # Print the categorized results to assist in targeted marketing.\n",
    "\n",
    "Customer_Spendig = [1025,2050,3020,6058,2024,3058,2050,1089,2058,6052,4012,2054,500,700,800]\n",
    "\n",
    "for spending in Customer_Spendig:\n",
    "    if spending < 1000:\n",
    "        category = \"Low\"\n",
    "    elif spending > 3000:\n",
    "        category = \"High\"\n",
    "    else:\n",
    "        category = \"Medium\"\n",
    "    print(f\"customer with spending ${spending} is categorized as a {category}\")\n"
   ]
  },
  {
   "cell_type": "code",
   "execution_count": 18,
   "id": "52b39296-4da9-4822-9b93-b1df06260ac3",
   "metadata": {},
   "outputs": [
    {
     "name": "stdout",
     "output_type": "stream",
     "text": [
      "Product A - Original Price: 2000, Discount percentage: 15%, Final Price: 1700.0\n",
      "Product B - Original Price: 3000, Discount percentage: 10%, Final Price: 2700.0\n",
      "Product C - Original Price: 4000, Discount percentage: 30%, Final Price: 2800.0\n",
      "Product D - Original Price: 5000, Discount percentage: 10%, Final Price: 4500.0\n",
      "Product E - Original Price: 6000, Discount percentage: 10%, Final Price: 5400.0\n",
      "Product F - Original Price: 7000, Discount percentage: 25%, Final Price: 5250.0\n",
      "Product G - Original Price: 8000, Discount percentage: 20%, Final Price: 6400.0\n"
     ]
    }
   ],
   "source": [
    "### Task 13: Discount Calculation\n",
    "\n",
    "## Objective: Automate the calculation of discounts for a promotional campaign.\n",
    "    # Write a code that calculates the final price after applying a discount percentage to a product’s original price.\n",
    "    # Test this function on a list of products with different discounts and print the final prices.\n",
    "\n",
    "def calculate_NetPrice(GrossPrice, DiscountPercentage):\n",
    "    discount = GrossPrice*(DiscountPercentage/100)\n",
    "    NetPrice = GrossPrice - discount\n",
    "    return NetPrice\n",
    "\n",
    "Products = [\n",
    "        {\"Name\" : \"Product A\" , \"Gross Price\" : 2000 , \"Discount percentage\" : 15} ,\n",
    "        {\"Name\" : \"Product B\" , \"Gross Price\" : 3000 , \"Discount percentage\" : 10} ,\n",
    "        {\"Name\" : \"Product C\" , \"Gross Price\" : 4000 , \"Discount percentage\" : 30} ,\n",
    "        {\"Name\" : \"Product D\" , \"Gross Price\" : 5000 , \"Discount percentage\" : 10} ,\n",
    "        {\"Name\" : \"Product E\" , \"Gross Price\" : 6000 , \"Discount percentage\" : 10} ,\n",
    "        {\"Name\" : \"Product F\" , \"Gross Price\" : 7000 , \"Discount percentage\" : 25} ,\n",
    "        {\"Name\" : \"Product G\" , \"Gross Price\" : 8000 , \"Discount percentage\" : 20}  ]\n",
    "\n",
    "for product in Products:\n",
    "    netprice = calculate_NetPrice(product[\"Gross Price\"], product[\"Discount percentage\"])\n",
    "    print(f\"{product['Name']} - Original Price: {product['Gross Price']}, Discount percentage: {product['Discount percentage']}%, Final Price: {netprice}\")\n",
    "    "
   ]
  },
  {
   "cell_type": "code",
   "execution_count": 16,
   "id": "40faa770-ffb7-4621-b270-50742757ee39",
   "metadata": {},
   "outputs": [
    {
     "name": "stdout",
     "output_type": "stream",
     "text": [
      "Neutral\n"
     ]
    }
   ],
   "source": [
    "### Task 14: Customer Feedback Sentiment Analysis\n",
    "\n",
    "## Objective: Basic sentiment analysis of customer feedback.\n",
    "    # Write the Python code that checks if certain positive or negative words (e.g., \"good\", \"bad\", \"happy\", \"disappointed\") are present in customer feedback.\n",
    "    # Print \"Positive\" or \"Negative\" based on the words found in the feedback.\n",
    "\n",
    "Feedback  = [\"the product really good . I am happy after using it\"]\n",
    "\n",
    "Positive_words = ['good', 'excellent', 'amezing', 'nice', 'happy']\n",
    "Negative_words = ['bed', 'poor', 'disappointed', 'terriable', 'unhappy']\n",
    "\n",
    "positive_count = sum(word in Feedback for word in Positive_words)\n",
    "Negative_count = sum(word in Feedback for word in Negative_words)\n",
    "\n",
    "\n",
    "if positive_count > Negative_count:\n",
    "    print(\"Positive\")\n",
    "elif Negative_count > positive_count:\n",
    "    print(\"Nagative\")\n",
    "else:\n",
    "    print(\"Neutral\")\n",
    "    "
   ]
  },
  {
   "cell_type": "code",
   "execution_count": 14,
   "id": "29a7487b-c785-4c6e-8685-f9c9086c4c6a",
   "metadata": {},
   "outputs": [
    {
     "name": "stdout",
     "output_type": "stream",
     "text": [
      "Rajiv's new salary:10000.02\n",
      "Suresh's new salary:12000.04\n",
      "Swat's new salary:16000.08\n",
      "Bhanuj's new salary:8000.1\n",
      "Chari's new salary:11000.060000000001\n"
     ]
    }
   ],
   "source": [
    "### Task 15: Employee Salary Increment Calculator\n",
    "\n",
    "## Objective: Calculate the salary increment for employees based on their performance rating.\n",
    "    # Create a dictionary that stores employee names and their performance ratings.\n",
    "    # Write the code that applies a different increment percentage based on the rating.\n",
    "    # Print the updated salary for each employee.\n",
    "\n",
    "employees = {\n",
    "    \"Rajiv\":{\"salary\": 5000, \"rating\": 1},\n",
    "    \"Suresh\":{\"salary\": 6000, \"rating\": 2},\n",
    "    \"Swat\":{\"salary\": 8000, \"rating\": 4},\n",
    "    \"Bhanuj\":{\"salary\": 4000, \"rating\": 5},\n",
    "    \"Chari\":{\"salary\": 5500, \"rating\": 3}\n",
    "    }\n",
    "\n",
    "# Increment Percentanges\n",
    "Increment = {\n",
    "    5:10,\n",
    "    4:8,\n",
    "    3:6,\n",
    "    2:4,\n",
    "    1:2    \n",
    "    }\n",
    "\n",
    "#funtion\n",
    "\n",
    "for name, details in employees.items():\n",
    "    salary = details[\"salary\"]\n",
    "    rating = details[\"rating\"]\n",
    "    increment_percentage = Increment[rating]\n",
    "    new_salary = salary+ (salary + increment_percentage/100)\n",
    "    print(f\"{name}'s new salary:{new_salary}\")\n"
   ]
  },
  {
   "cell_type": "code",
   "execution_count": 12,
   "id": "28a73f0a-9f65-48ba-b4d7-dc1add2a134b",
   "metadata": {},
   "outputs": [
    {
     "name": "stdout",
     "output_type": "stream",
     "text": [
      "Monthly sales report has been genrated in 'Montly_report.txt'.\n"
     ]
    }
   ],
   "source": [
    "### Task 16: Monthly Sales Report Generator\n",
    "\n",
    "## Objective: Generate a simple text-based monthly sales report.\n",
    "    # Create a list of daily sales figures for a month.\n",
    "    # Calculate the total and average sales for the month.\n",
    "    # Write these statistics to a text file named monthly_report.txt.\n",
    "\n",
    "daily_Sales = [1500, 2000, 1750, 1900, 2200, 1800, 2100, 2300, 2500, 2400,\n",
    "    2600, 2700, 1800, 2200, 2000, 1900, 2100, 2200, 2300, 2400]\n",
    "\n",
    "Total_Sales = sum(daily_Sales)\n",
    "average_sales =  Total_Sales/ len(daily_Sales)\n",
    "\n",
    "with open (\"Montly_report.txt\",\"w\") as file:\n",
    "    file.write(\"Monthly Sales Report\\n\")\n",
    "    file.write(\"====================\\n\")\n",
    "    file.write(f\"Total Sales: {Total_Sales}\\n\")\n",
    "    file.write(f\"Average Sales: {average_sales}\\n\")\n",
    "\n",
    "print(\"Monthly sales report has been genrated in 'Montly_report.txt'.\")\n"
   ]
  },
  {
   "cell_type": "code",
   "execution_count": 10,
   "id": "035cc4c1-588b-4fcc-a26a-882453818eb0",
   "metadata": {},
   "outputs": [
    {
     "name": "stdout",
     "output_type": "stream",
     "text": [
      "product that needs repleinshment:\n",
      "=================================\n",
      "product A (stock: 55 Threshold: 100\n",
      "product B (stock: 10 Threshold: 120\n",
      "product C (stock: 100 Threshold: 120\n",
      "product D (stock: 200 Threshold: 250\n"
     ]
    }
   ],
   "source": [
    "##Task 17: Stock Replenishment Planning\n",
    "\n",
    "## Objective: Determine which products need replenishment based on sales data.\n",
    "    # Given a list of products and their current stock levels, compare these against a predefined threshold.\n",
    "    # Print a list of products that need to be reordered to maintain adequate stock levels.\n",
    "\n",
    "\n",
    "products = {\n",
    "    \"product A\" : {\"stock\": 55, \"threshold\" : 100},\n",
    "    \"product B\" : {\"stock\": 10, \"threshold\" : 120},\n",
    "    \"product C\" : {\"stock\": 100, \"threshold\" : 120},\n",
    "    \"product D\" : {\"stock\": 200, \"threshold\" : 250},\n",
    "    \"product E\" : {\"stock\": 90, \"threshold\" : 50}\n",
    "}\n",
    "\n",
    "def check_replenishment(products):\n",
    "    print(\"product that needs repleinshment:\")\n",
    "    print(\"=================================\")\n",
    "    for product, details in products.items():\n",
    "        if details[\"stock\"] < details[\"threshold\"]:\n",
    "            print(f\"{product} (stock: {details['stock']} Threshold: {details['threshold']}\")\n",
    "\n",
    "check_replenishment(products)"
   ]
  },
  {
   "cell_type": "code",
   "execution_count": 4,
   "id": "d45c3423-bc52-4226-bea9-03a73a943ee7",
   "metadata": {},
   "outputs": [
    {
     "name": "stdout",
     "output_type": "stream",
     "text": [
      "Rajiv Kumar\n",
      "Renukachari Kasee\n",
      "Swati Choudhary\n",
      "Amit Pant\n",
      "Bhanuj Pant\n"
     ]
    }
   ],
   "source": [
    "### Task 18: Data Cleaning Utility\n",
    "\n",
    "## Objective: Create a utility to clean customer names for better data consistency.\n",
    "    # Write the code that takes a list of customer names with extra spaces and inconsistent capitalization.\n",
    "    # Clean the names by trimming spaces and standardizing the capitalization (e.g., \"JOHN DOE\" -> \"John Doe\").\n",
    "    # Print the cleaned names for database entry.\n",
    "Customers= [\"Rajiv KUMAR\", \"RenuKAChari Kasee\", \"sWAti ChOUDhary\" , \"AmiT Pant\", \"BhanuJ Pant\"  ]\n",
    "\n",
    "def Clean_names(Customer):\n",
    "    Cleaned_names = []\n",
    "    for name in Customer:\n",
    "        Cleand_name = name.strip().title() \n",
    "        Cleaned_names.append(Cleand_name)\n",
    "    return Cleaned_names\n",
    "\n",
    "Cleaned_customer_Name = Clean_names(Customers)\n",
    "for name in Cleaned_customer_Name:\n",
    "    print(name)\n"
   ]
  },
  {
   "cell_type": "code",
   "execution_count": 8,
   "id": "e4f39d8d-40bc-460f-b271-363713d74252",
   "metadata": {},
   "outputs": [
    {
     "name": "stdout",
     "output_type": "stream",
     "text": [
      "forecasted sales for next month: 1500.0 based on the last 3 month sales\n"
     ]
    }
   ],
   "source": [
    "### Task 19: Simple Sales Forecasting\n",
    "\n",
    "## Objective: Implement a basic forecasting model for next month’s sales.\n",
    "    # Based on the average sales of the last 3 months, predict next month’s sales using a simple average.\n",
    "    # Print the forecasted sales figures for budget planning.\n",
    "\n",
    "last_3months_Sales = [1000,2000,1500]\n",
    "\n",
    "def forecast_Sales(sales):\n",
    "    average_sales= sum(sales)/len(sales)\n",
    "    return average_sales\n",
    "\n",
    "forecasted_sales = forecast_Sales(last_3months_Sales)\n",
    "\n",
    "print(f\"forecasted sales for next month: {forecasted_sales} based on the last 3 month sales\")"
   ]
  },
  {
   "cell_type": "code",
   "execution_count": 6,
   "id": "3e013e27-ab28-47b5-8e87-020b1800944d",
   "metadata": {},
   "outputs": [
    {
     "name": "stdout",
     "output_type": "stream",
     "text": [
      "Chari: 20000 point\n",
      "Renuka: 150000 point\n",
      "Swati: 90000 point\n",
      "Bhanuj: 60000 point\n",
      "Rajiv: 30000 point\n"
     ]
    }
   ],
   "source": [
    "### Task 20: Customer Loyalty Points Calculator\n",
    "\n",
    "## Objective: Calculate loyalty points for customers based on their purchases.\n",
    "    # Write a code that assigns loyalty points to customers based on their total purchase amount.\n",
    "    # Implement a tiered system where different spending levels earn different point multipliers.\n",
    "    # Print the loyalty points for a list of customers.\n",
    "\n",
    "Customer_purchases = {\"Chari\": 10000,\n",
    "                      \"Renuka\": 50000,\n",
    "                      \"Swati\": 30000,\n",
    "                      \"Bhanuj\": 20000,\n",
    "                      \"Rajiv\": 15000\n",
    "                     }\n",
    "\n",
    "loyalty_tiers = [ {\"min_purchase\" : 0, \"Multiplyer\": 1},\n",
    "                 {\"min_purchase\" : 10000, \"Multiplyer\": 2},\n",
    "                 {\"min_purchase\" : 20000, \"Multiplyer\": 3}]\n",
    "\n",
    "def calculate_loyalty_points(puchase):\n",
    "    for tier in reversed(loyalty_tiers):\n",
    "        if puchase>=  tier[\"min_purchase\"]:\n",
    "            return puchase * tier[\"Multiplyer\"]\n",
    "for customer, puchase in Customer_purchases.items():\n",
    "    points = calculate_loyalty_points(puchase)\n",
    "    print(f\"{customer}: {points} point\")"
   ]
  },
  {
   "cell_type": "code",
   "execution_count": null,
   "id": "d92dc488-87dc-4bb4-b11d-2dbdf117d34e",
   "metadata": {},
   "outputs": [],
   "source": []
  }
 ],
 "metadata": {
  "kernelspec": {
   "display_name": "Python 3 (ipykernel)",
   "language": "python",
   "name": "python3"
  },
  "language_info": {
   "codemirror_mode": {
    "name": "ipython",
    "version": 3
   },
   "file_extension": ".py",
   "mimetype": "text/x-python",
   "name": "python",
   "nbconvert_exporter": "python",
   "pygments_lexer": "ipython3",
   "version": "3.12.4"
  }
 },
 "nbformat": 4,
 "nbformat_minor": 5
}
